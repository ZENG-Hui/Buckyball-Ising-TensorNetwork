{
 "cells": [
  {
   "cell_type": "markdown",
   "metadata": {
    "slideshow": {
     "slide_type": "slide"
    }
   },
   "source": [
    "# Model\n",
    "\n",
    "Anitferromagnetic Ising model Hamiltonian\n",
    "$$\n",
    "H = \\sum_{\\langle i,j\\rangle} \\sigma_i \\sigma_j\n",
    "$$\n",
    "\n",
    "density operator\n",
    "\n",
    "$$\n",
    "\\hat{\\rho} = e^{- \\beta H} =e^{- \\beta \\sum_{\\langle i,j\\rangle} \\sigma_i \\sigma_j}\n",
    "$$"
   ]
  },
  {
   "cell_type": "markdown",
   "metadata": {
    "slideshow": {
     "slide_type": "slide"
    }
   },
   "source": [
    "\n",
    "$$\n",
    "\\begin{array}{ccc}\n",
    "            & \\sigma_j =\\uparrow  & \\sigma_j =\\downarrow  \\\\\n",
    "            \\\\ \\hline\n",
    "             \\sigma_i = \\uparrow& e^{-\\beta}  & e^{\\beta} \\\\\n",
    "             \\sigma_i = \\downarrow&e^{\\beta}  & e^{-\\beta}  \n",
    "\\end{array}\n",
    "$$\n",
    "\n",
    "$$\n",
    "S = \\pmatrix{ e^{-\\beta}  & e^{\\beta} \\\\\n",
    "              e^{\\beta}  & e^{-\\beta}  }\n",
    "$$\n",
    "\n",
    "$$\n",
    "Z_{ij} =\\mathrm{Tr} [ e^{-\\beta H} ]= \\sum_{ij}S_{ij}\n",
    "$$\n",
    "<img src=\"./images/2lattice.png\" width=\"600\">"
   ]
  },
  {
   "cell_type": "markdown",
   "metadata": {
    "slideshow": {
     "slide_type": "slide"
    }
   },
   "source": [
    "# 3 lattice\n",
    "\n",
    "$$\n",
    "Z_{ijk} = \\sum_{ijk}S_{ij}S_{jk}S_{ki}\n",
    "$$\n",
    "<img src=\"./images/3lattice.png\" width=\"600\">\n"
   ]
  },
  {
   "cell_type": "markdown",
   "metadata": {
    "slideshow": {
     "slide_type": "slide"
    }
   },
   "source": [
    "# 4 lattice\n",
    "\n",
    "$$\n",
    "Z_{ijkl} = \\sum_{ijkl} S_{ij} S_{jk} S_{ki} S_{li} S_{lj} S_{lk}\n",
    "$$\n",
    "\n",
    "<img src=\"./images/4lattice.png\" width=\"600\">"
   ]
  },
  {
   "cell_type": "markdown",
   "metadata": {
    "slideshow": {
     "slide_type": "slide"
    }
   },
   "source": [
    "# 变换\n",
    "\n",
    "$$\n",
    "S^{1/2} \\cdot S^{1/2} = S\n",
    "$$\n",
    "\n",
    "$$\n",
    "S_{ik} = \\sum_j S^{1/2}_{ij} \\cdot S^{1/2}_{jk}\n",
    "$$\n",
    "\n",
    "## 求法\n",
    "\n",
    "若\n",
    "$$\n",
    "A = V \\Lambda V^{-1}\n",
    "$$\n",
    "则\n",
    "$$\n",
    "A^{1/2} = V \\Lambda^{1/2} V^{-1}\n",
    "$$"
   ]
  },
  {
   "cell_type": "markdown",
   "metadata": {
    "slideshow": {
     "slide_type": "slide"
    }
   },
   "source": [
    "# Tensor\n",
    "\n",
    "$$\n",
    "T^k_{adc} = \\sum_{k}S^{1/2}_{ka} S^{1/2}_{kd} S^{1/2}_{kc}\n",
    "$$\n",
    "\n",
    "$$\n",
    "Z = \\sum_{abcdef} T_{adc}T_{aeb} T_{bcf} T_{def}\n",
    "$$\n",
    "\n",
    "partition functiom\n",
    "\n",
    "$$\n",
    "Z(\\beta) = \\mathrm{Tr}\\hat{\\rho}\n",
    "$$\n",
    "\n",
    "<table>\n",
    "  <tr>\n",
    "    <td><img src=\"./images/4latticeS.png\" width=\"600\"></td>\n",
    "    <td><img src=\"./images/sqrtS.png\" width=\"600\"></td>\n",
    "    <td><img src=\"./images/T.png\" width=\"600\"></td>\n",
    "  </tr>\n",
    "</table>\n",
    "\n"
   ]
  },
  {
   "cell_type": "code",
   "execution_count": 46,
   "metadata": {
    "slideshow": {
     "slide_type": "slide"
    }
   },
   "outputs": [
    {
     "name": "stdout",
     "output_type": "stream",
     "text": [
      "Z= 1.6128702850896815e+44\n",
      "E0 =  -1.0101010126106758\n",
      "degeneracy is 6.000000000000087\n",
      "exact partition function is 1.6128702850896815e+44\n"
     ]
    },
    {
     "name": "stderr",
     "output_type": "stream",
     "text": [
      "/usr/lib/python3.7/site-packages/ipykernel_launcher.py:21: DeprecationWarning: object of type <class 'float'> cannot be safely interpreted as an integer.\n",
      "/usr/lib/python3.7/site-packages/ipykernel_launcher.py:22: DeprecationWarning: object of type <class 'float'> cannot be safely interpreted as an integer.\n"
     ]
    }
   ],
   "source": [
    "\"\"\"\n",
    "This is a triangle lattice of Ising model.\n",
    "Using tensor network method to get the partition, ground state energy\n",
    "and degeneracy of ground state energy.\n",
    "In addition, also calculate the exact partition function.\n",
    "\"\"\"\n",
    "\n",
    "\n",
    "import numpy as np\n",
    "import torch\n",
    "from scipy import gradient\n",
    "from scipy.linalg import sqrtm\n",
    "from torch.autograd import Variable\n",
    "from matplotlib import pyplot as plt\n",
    "\n",
    "\n",
    "# define a function: compute the value of derivetive of function f(x)\n",
    "# at x = a. Number of setps is N, and compute in the region [a-l, a+l]\n",
    "def mydiff(f,a, N = 1e3, l = 1e-2):\n",
    "    s = 2*l/N\n",
    "    x = np.linspace(a-l,a+l,N)\n",
    "    fun = np.linspace(0,0,N)\n",
    "    for i in range(int(N)):\n",
    "        fun[i] = f(x[i])\n",
    "    d = gradient(fun,s)\n",
    "    d = d[int(N)//2]\n",
    "    return d\n",
    "\n",
    "beta = 100\n",
    "\n",
    "\n",
    "# compute the partition function Z\n",
    "def getZ(beta,mu=0):\n",
    "    B = np.array([ [np.exp(-beta), np.exp(beta)],\n",
    "                       [np.exp(beta), np.exp(-beta)] ])\n",
    "    B = B*np.exp(beta*mu)\n",
    "    A1 = torch.tensor(B)\n",
    "\n",
    "    Z = torch.einsum('ij,jk,ki->',A1,A1,A1)\n",
    "    Z = Z.numpy()\n",
    "    return Z\n",
    "\n",
    "print('Z=',getZ(beta))\n",
    "\n",
    "# compute lnZ\n",
    "def lnZ(beta):\n",
    "    Z = getZ(beta)\n",
    "    Z = np.log(Z)\n",
    "    return Z\n",
    "\n",
    "# when 1 is negleticable compare to beta, E is the ground state energy.\n",
    "E0 = -mydiff(lnZ, beta, N = 1e2, l = 1e-4)\n",
    "#E0 = np.around(E0)\n",
    "print('E0 = ',E0)\n",
    "#print('zzdaf', lnZ(.999))\n",
    "\n",
    "\n",
    "mu = -1/3\n",
    "# whe mu is equal to groud state energy E0/number of interaction\n",
    "def Deg(beta,mu=mu):\n",
    "    Deg = getZ(beta,mu=mu)\n",
    "    return Deg\n",
    "\n",
    "print('degeneracy is',Deg(beta))\n",
    "\n",
    "ZZ = (2*np.exp(-3*beta) + 6*np.exp(beta) )#*np.exp(-100)\n",
    "print('exact partition function is', ZZ)\n"
   ]
  },
  {
   "cell_type": "markdown",
   "metadata": {
    "slideshow": {
     "slide_type": "slide"
    }
   },
   "source": [
    "<table>\n",
    "  <tr>\n",
    "    <td><img src=\"./images/C60.png\" width=\"600\"></td>\n",
    "    <td><img src=\"./images/icosahedron.png\" width=\"600\"></td>\n",
    "  </tr>\n",
    "</table>\n"
   ]
  },
  {
   "cell_type": "code",
   "execution_count": 47,
   "metadata": {
    "slideshow": {
     "slide_type": "slide"
    }
   },
   "outputs": [
    {
     "name": "stdout",
     "output_type": "stream",
     "text": [
      "f( 1.0 )= 78.4421074656477\n",
      "f( 2.0 )= 142.01437800946442\n",
      "f' between 2.0 and 1.0 is 63.57227054381673\n",
      "f( 3.0 )= 207.72503688198492\n",
      "f' between 3.0 and 2.0 is 65.7106588725205\n",
      "f( 4.0 )= 273.6863836975408\n",
      "f' between 4.0 and 3.0 is 65.96134681555588\n",
      "f( 5.0 )= 339.6811612250026\n",
      "f' between 5.0 and 4.0 is 65.99477752746179\n",
      "f( 6.0 )= 405.6804545976738\n",
      "f' between 6.0 and 5.0 is 65.99929337267122\n",
      "f( 7.0 )= 471.680358971803\n",
      "f' between 7.0 and 6.0 is 65.99990437412919\n",
      "f( 8.0 )= 537.6803460083094\n",
      "f' between 8.0 and 7.0 is 65.99998703650635\n",
      "f( 9.0 )= 603.680344106442\n",
      "f' between 9.0 and 8.0 is 65.99999809813266\n",
      "f( 10.0 )= 669.6803437593979\n",
      "f' between 10.0 and 9.0 is 65.99999965295592\n",
      "f( 11.0 )= nan\n",
      "f' between 11.0 and 10.0 is nan\n",
      "f( 12.0 )= nan\n",
      "f' between 12.0 and 11.0 is nan\n",
      "[-63.57227054 -65.71065887 -65.96134682 -65.99477753 -65.99929337\n",
      " -65.99990437 -65.99998704 -65.9999981  -65.99999965          nan\n",
      "          nan]\n"
     ]
    }
   ],
   "source": [
    "\"\"\"\n",
    "This is a python3.7 code to calculate the ground state energy of a\n",
    "Ising model of C60 using tensor network method\n",
    "copyright: Copyright 2019 by ZQW.\n",
    "license: MIT\n",
    "\"\"\"\n",
    "\n",
    "import numpy as np\n",
    "from scipy.linalg import sqrtm\n",
    "\n",
    "def mydiff(f,a,b,N):\n",
    "    \"\"\"\n",
    "    get the derivative of function\n",
    "    f: the input function\n",
    "    N: calculate the derivatives of function f at N points in [a, b]\n",
    "    return: N derivatives of function f\n",
    "    \"\"\"\n",
    "    fx = np.zeros(N)\n",
    "    s = (b-a)/(N-1)\n",
    "    d = np.zeros(N-1)\n",
    "    for i in range(N):\n",
    "        x = a+i*s\n",
    "        fx[i] = f(x)\n",
    "        print('f(',x,')=',fx[i])\n",
    "        if i>0:\n",
    "            d[i-1] = ( fx[i] - fx[i-1] ) /s\n",
    "            print('f\\' between',x,'and',x-s,'is',d[i-1])\n",
    "    return d\n",
    "\n",
    "def getlnZ(beta):\n",
    "    S = np.array([ [np.exp(-beta), np.exp(beta)],\\\n",
    "                   [np.exp(beta), np.exp(-beta)]]) # the S matrix\n",
    "    # between two lattice\n",
    "    S = sqrtm(S)\n",
    "    T = np.einsum('ij,ik,il->jkl',S,S,S) # the 3-tensor at each lattice\n",
    "    T = np.einsum('iae,jab,kbc,lcd,mde->ijklm',T,T,T,T,T) # the\n",
    "    # 5-tensor at each lattice of a icosahedron after contraction of 12 pentagon\n",
    "    Z = np.einsum('abcde,kfejt,jdirs,ciqph,hongb,mgafl,\\\n",
    "                   ABCDz,Ayrqx,Bxpow,Cwnmv,Dvlku,zutsy->'\\\n",
    "                   ,T,T,T,T,T,T,T,T,T,T,T,T) # contract the 12\n",
    "    # lattices of the icosahedron to get the partition function of C60\n",
    "    Z = Z.real\n",
    "    lnZ = np.log(Z)             # the log of partition of C60\n",
    "    return lnZ\n",
    "\n",
    "E0 = - mydiff( getlnZ, 1,12,12) # according to statistical mechanics\n",
    "# to get the energy. when temperature is 0, it is the ground state energy.\n",
    "print(E0)"
   ]
  },
  {
   "cell_type": "code",
   "execution_count": null,
   "metadata": {},
   "outputs": [],
   "source": []
  }
 ],
 "metadata": {
  "@webio": {
   "lastCommId": null,
   "lastKernelId": null
  },
  "celltoolbar": "Slideshow",
  "kernelspec": {
   "display_name": "Python 3",
   "language": "python",
   "name": "python3"
  },
  "language_info": {
   "codemirror_mode": {
    "name": "ipython",
    "version": 3
   },
   "file_extension": ".py",
   "mimetype": "text/x-python",
   "name": "python",
   "nbconvert_exporter": "python",
   "pygments_lexer": "ipython3",
   "version": "3.7.3"
  }
 },
 "nbformat": 4,
 "nbformat_minor": 2
}
